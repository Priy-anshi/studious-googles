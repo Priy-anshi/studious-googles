{
 "cells": [
  {
   "cell_type": "markdown",
   "metadata": {},
   "source": [
    "# Equilibrium Point Problem \n",
    "\n",
    "You can also create content with Jupyter Notebooks. This means that you can include\n",
    "code blocks and their outputs in your book.\n",
    "\n",
    "Equilibrium index of an array is an index such that the sum of elements at lower indexes is equal to the sum of elements at higher indexes. For example, in an array A: \n",
    "\n",
    "Example :  \n",
    "\n",
    "Input: A[] = {-7, 1, 5, 2, -4, 3, 0} \n",
    "Output: 3 \n",
    "3 is an equilibrium index, because: \n",
    "A[0] + A[1] + A[2] = A[4] + A[5] + A[6] \n",
    "\n",
    "Input: A[] = {1, 2, 3} \n",
    "Output: -1 \n",
    "\n",
    "\n"
   ]
  },
  {
   "cell_type": "code",
   "execution_count": null,
   "metadata": {},
   "outputs": [],
   "source": [
    "# Python program to find equilibrium \n",
    "# index of an array\n",
    "\n",
    "# function to find the equilibrium index\n",
    "def equilibrium(arr):\n",
    "    leftsum = 0\n",
    "    rightsum = 0\n",
    "    n = len(arr)\n",
    "\n",
    "    # Check for indexes one by one \n",
    "    # until an equilibrium index is found\n",
    "    for i in range(n):\n",
    "        leftsum = 0\n",
    "        rightsum = 0\n",
    "    \n",
    "        # get left sum\n",
    "        for j in range(i):\n",
    "            leftsum += arr[j]\n",
    "        \n",
    "        # get right sum\n",
    "        for j in range(i + 1, n):\n",
    "            rightsum += arr[j]\n",
    "        \n",
    "        # if leftsum and rightsum are same,\n",
    "        # then we are done\n",
    "        if leftsum == rightsum:\n",
    "            return i\n",
    "    \n",
    "    # return -1 if no equilibrium index is found\n",
    "    return -1\n",
    "            \n",
    "# driver code\n",
    "arr = [-7, 1, 5, 2, -4, 3, 0]\n",
    "print (equilibrium(arr))"
   ]
  },
  {
   "cell_type": "code",
   "execution_count": null,
   "metadata": {},
   "outputs": [],
   "source": [
    "# Python program to find the equilibrium\n",
    "# index of an array\n",
    "\n",
    "# function to find the equilibrium index\n",
    "def equilibrium(arr):\n",
    "\n",
    "    # finding the sum of whole array\n",
    "    total_sum = sum(arr)\n",
    "    leftsum = 0\n",
    "    for i, num in enumerate(arr):\n",
    "        \n",
    "        # total_sum is now right sum\n",
    "        # for index i\n",
    "        total_sum -= num\n",
    "        \n",
    "        if leftsum == total_sum:\n",
    "            return i\n",
    "        leftsum += num\n",
    "     \n",
    "      # If no equilibrium index found, \n",
    "      # then return -1\n",
    "    return -1\n",
    "    \n",
    "# Driver code\n",
    "arr = [-7, 1, 5, 2, -4, 3, 0]\n",
    "print ('First equilibrium index is ',\n",
    "       equilibrium(arr))"
   ]
  },
  {
   "cell_type": "markdown",
   "metadata": {},
   "source": [
    "This is just to demonstrate to you a template technique but there's more that you can do!"
   ]
  }
 ],
 "metadata": {
  "kernelspec": {
   "display_name": "Python 3",
   "language": "python",
   "name": "python3"
  },
  "language_info": {
   "codemirror_mode": {
    "name": "ipython",
    "version": 3
   },
   "file_extension": ".py",
   "mimetype": "text/x-python",
   "name": "python",
   "nbconvert_exporter": "python",
   "pygments_lexer": "ipython3",
   "version": "3.8.0"
  },
  "widgets": {
   "application/vnd.jupyter.widget-state+json": {
    "state": {},
    "version_major": 2,
    "version_minor": 0
   }
  }
 },
 "nbformat": 4,
 "nbformat_minor": 4
}
